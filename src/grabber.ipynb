{
 "cells": [
  {
   "cell_type": "code",
   "execution_count": 1,
   "metadata": {},
   "outputs": [
    {
     "name": "stdout",
     "output_type": "stream",
     "text": [
      "Google Earth Engine Catalog: The [Earth Engine](https://earthengine.google.com/) Public Data Catalog.\n",
      "\n",
      "See also:\n",
      "\n",
      "- [HTML version of the catalog](https://developers.google.com/earth-engine/datasets/catalog)\n",
      "- [STAC Browser version](https://radiantearth.github.io/stac-browser/#/external/storage.googleapis.com/earthengine-stac/catalog/catalog.json)\n",
      "\n"
     ]
    },
    {
     "data": {
      "application/vnd.jupyter.widget-view+json": {
       "model_id": "4fb35a90351741b89901f7c37f84591b",
       "version_major": 2,
       "version_minor": 0
      },
      "text/plain": [
       "Map(center=[20, 0], controls=(WidgetControl(options=['position', 'transparent_bg'], widget=HBox(children=(Togg…"
      ]
     },
     "execution_count": 1,
     "metadata": {},
     "output_type": "execute_result"
    }
   ],
   "source": [
    "from pystac_client import Client\n",
    "import ee\n",
    "import geemap\n",
    "import eemont\n",
    "\n",
    "ee.Initialize()\n",
    "\n",
    "client = Client.open(\n",
    "    \"https://earthengine-stac.storage.googleapis.com/catalog/catalog.json\")\n",
    "\n",
    "geom = ee.Geometry.Point([10.434102660958201, 51.08111585538142])  # Hainich\n",
    "\n",
    "l9 = ee.ImageCollection(\"LANDSAT/LC09/C02/T1_L2\") \\\n",
    "    .filterBounds(geom) \\\n",
    "    .filterDate(\"2022-01-01\", \"2022-02-01\")\n",
    "l9_scaled = l9.scaleAndOffset()\n",
    "Map = geemap.Map()\n",
    "Map.addLayer(l9_scaled.first(), {\n",
    "             \"bands\": [\"SR_B4\", \"SR_B3\", \"SR_B2\"], \"min\": 0, \"max\": 0.3})\n",
    "Map.centerObject(l9_scaled.first())\n",
    "Map\n"
   ]
  },
  {
   "cell_type": "code",
   "execution_count": 5,
   "metadata": {},
   "outputs": [
    {
     "data": {
      "application/vnd.jupyter.widget-view+json": {
       "model_id": "4fb35a90351741b89901f7c37f84591b",
       "version_major": 2,
       "version_minor": 0
      },
      "text/plain": [
       "Map(center=[51.683796592900265, 11.288809927277608], controls=(WidgetControl(options=['position', 'transparent…"
      ]
     },
     "execution_count": 5,
     "metadata": {},
     "output_type": "execute_result"
    }
   ],
   "source": []
  }
 ],
 "metadata": {
  "kernelspec": {
   "display_name": "Python 3.8.15 ('ee')",
   "language": "python",
   "name": "python3"
  },
  "language_info": {
   "codemirror_mode": {
    "name": "ipython",
    "version": 3
   },
   "file_extension": ".py",
   "mimetype": "text/x-python",
   "name": "python",
   "nbconvert_exporter": "python",
   "pygments_lexer": "ipython3",
   "version": "3.9.15"
  },
  "orig_nbformat": 4,
  "vscode": {
   "interpreter": {
    "hash": "ea260417f375622f31b9e16369a131c62b8340b6e4501dca039e8d4ef01e235c"
   }
  }
 },
 "nbformat": 4,
 "nbformat_minor": 2
}
